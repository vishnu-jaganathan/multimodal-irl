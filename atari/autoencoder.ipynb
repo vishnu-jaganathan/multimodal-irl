{
 "cells": [
  {
   "cell_type": "code",
   "execution_count": 1,
   "metadata": {},
   "outputs": [
    {
     "name": "stderr",
     "output_type": "stream",
     "text": [
      "c:\\Users\\Bryan Zhao\\.conda\\envs\\7648-project\\lib\\site-packages\\tqdm\\auto.py:22: TqdmWarning: IProgress not found. Please update jupyter and ipywidgets. See https://ipywidgets.readthedocs.io/en/stable/user_install.html\n",
      "  from .autonotebook import tqdm as notebook_tqdm\n"
     ]
    }
   ],
   "source": [
    "from atari_env import AtariEnv\n",
    "from atari_data import AtariImageDataset\n",
    "from nn_init import Autoencoder, GenerateCallback\n",
    "from torch.utils.data import DataLoader\n",
    "from torchvision import transforms\n",
    "from torchvision.io import read_image\n",
    "from torchvision.utils import save_image\n",
    "import pytorch_lightning as pl\n",
    "from pytorch_lightning.callbacks import LearningRateMonitor, ModelCheckpoint\n",
    "import torch\n",
    "import numpy as np\n",
    "import matplotlib.pyplot as plt\n",
    "import pandas as pd\n",
    "import os\n",
    "from torchsummary import summary"
   ]
  },
  {
   "cell_type": "code",
   "execution_count": 2,
   "metadata": {},
   "outputs": [
    {
     "name": "stdout",
     "output_type": "stream",
     "text": [
      "Using cpu device\n",
      "No pretrained model found\n",
      "----------------------------------------------------------------\n",
      "        Layer (type)               Output Shape         Param #\n",
      "================================================================\n",
      "            Conv2d-1          [-1, 32, 105, 75]             608\n",
      "              ReLU-2          [-1, 32, 105, 75]               0\n",
      "            Conv2d-3           [-1, 32, 52, 38]           9,248\n",
      "              ReLU-4           [-1, 32, 52, 38]               0\n",
      "            Conv2d-5           [-1, 32, 26, 19]           9,248\n",
      "              ReLU-6           [-1, 32, 26, 19]               0\n",
      "            Conv2d-7            [-1, 1, 12, 10]             289\n",
      "              ReLU-8            [-1, 1, 12, 10]               0\n",
      "           Flatten-9                  [-1, 120]               0\n",
      "          Encoder-10                  [-1, 120]               0\n",
      "        Unflatten-11               [-1, 12, 10]               0\n",
      "  ConvTranspose2d-12           [-1, 32, 26, 20]             320\n",
      "             ReLU-13           [-1, 32, 26, 20]               0\n",
      "  ConvTranspose2d-14           [-1, 32, 52, 40]           9,248\n",
      "             ReLU-15           [-1, 32, 52, 40]               0\n",
      "  ConvTranspose2d-16          [-1, 32, 105, 80]           9,248\n",
      "             ReLU-17          [-1, 32, 105, 80]               0\n",
      "  ConvTranspose2d-18          [-1, 2, 210, 160]             578\n",
      "          Sigmoid-19          [-1, 2, 210, 160]               0\n",
      "          Decoder-20          [-1, 2, 210, 160]               0\n",
      "================================================================\n",
      "Total params: 38,787\n",
      "Trainable params: 38,787\n",
      "Non-trainable params: 0\n",
      "----------------------------------------------------------------\n",
      "Input size (MB): 0.24\n",
      "Forward/backward pass size (MB): 11.97\n",
      "Params size (MB): 0.15\n",
      "Estimated Total Size (MB): 12.35\n",
      "----------------------------------------------------------------\n"
     ]
    },
    {
     "name": "stderr",
     "output_type": "stream",
     "text": [
      "c:\\Users\\Bryan Zhao\\.conda\\envs\\7648-project\\lib\\site-packages\\gym\\utils\\passive_env_checker.py:31: UserWarning: \u001b[33mWARN: A Box observation space has an unconventional shape (neither an image, nor a 1D vector). We recommend flattening the observation to have only a 1D vector or use a custom policy to properly process the data. Actual observation shape: (210, 160)\u001b[0m\n",
      "  logger.warn(\n"
     ]
    }
   ],
   "source": [
    "# use cuda if available\n",
    "device = \"cpu\"\n",
    "if torch.cuda.is_available():\n",
    "    device = \"cuda\"\n",
    "print(f\"Using {device} device\")\n",
    "\n",
    "game = \"Bowling-v5\"\n",
    "atari = AtariEnv(game, render=None, obs=\"grayscale\")\n",
    "\n",
    "autoencoder = Autoencoder()\n",
    "input = torch.randn(2,210,150)\n",
    "summary(autoencoder, input_size=input.size())"
   ]
  },
  {
   "cell_type": "code",
   "execution_count": 3,
   "metadata": {},
   "outputs": [
    {
     "name": "stdout",
     "output_type": "stream",
     "text": [
      "Input Size: torch.Size([2, 210, 160])\n",
      "Input Values: {0.0, 64.0, 131.0, 132.0, 104.0, 85.0}\n",
      "Output Size: torch.Size([1, 2, 210, 160])\n"
     ]
    }
   ],
   "source": [
    "RUN = 6\n",
    "run_dir = 'data/run_'+str(RUN)\n",
    "CHECKPOINT_PATH = os.path.join(run_dir, \"checkpoints\")\n",
    "\n",
    "train_dataset = AtariImageDataset(os.path.join(run_dir,'train'))\n",
    "\n",
    "test_input = train_dataset[1][0]\n",
    "model = Autoencoder()\n",
    "print(\"Input Size:\",test_input.size())\n",
    "print(\"Input Values:\", set(test_input.flatten().tolist()))\n",
    "print(\"Output Size:\",model(train_dataset[1][0]).size())\n",
    "\n",
    "train_set, val_set = torch.utils.data.random_split(train_dataset, [0.8, 0.2])\n",
    "test_set = AtariImageDataset(os.path.join(run_dir,'test'))"
   ]
  },
  {
   "cell_type": "code",
   "execution_count": 22,
   "metadata": {},
   "outputs": [
    {
     "name": "stderr",
     "output_type": "stream",
     "text": [
      "GPU available: False, used: False\n",
      "TPU available: False, using: 0 TPU cores\n",
      "IPU available: False, using: 0 IPUs\n",
      "HPU available: False, using: 0 HPUs\n",
      "\n",
      "  | Name    | Type    | Params | In sizes         | Out sizes       \n",
      "--------------------------------------------------------------------------\n",
      "0 | encoder | Encoder | 19.4 K | [2, 2, 210, 150] | [2, 120]        \n",
      "1 | decoder | Decoder | 19.4 K | [2, 120]         | [2, 2, 210, 160]\n",
      "--------------------------------------------------------------------------\n",
      "38.8 K    Trainable params\n",
      "0         Non-trainable params\n",
      "38.8 K    Total params\n",
      "0.155     Total estimated model params size (MB)\n"
     ]
    },
    {
     "name": "stdout",
     "output_type": "stream",
     "text": [
      "Found pretrained model, loading...\n",
      "Epoch 1:   8%|▊         | 10/132 [00:33<06:54,  3.40s/it, loss=7.38e+05, v_num=2] "
     ]
    },
    {
     "name": "stderr",
     "output_type": "stream",
     "text": [
      "c:\\Users\\Bryan Zhao\\.conda\\envs\\7648-project\\lib\\site-packages\\pytorch_lightning\\trainer\\call.py:48: UserWarning: Detected KeyboardInterrupt, attempting graceful shutdown...\n",
      "  rank_zero_warn(\"Detected KeyboardInterrupt, attempting graceful shutdown...\")\n"
     ]
    },
    {
     "name": "stdout",
     "output_type": "stream",
     "text": [
      "Testing DataLoader 0: 100%|██████████| 27/27 [00:29<00:00,  1.11s/it]\n",
      "Testing DataLoader 0: 100%|██████████| 34/34 [00:36<00:00,  1.08s/it]\n"
     ]
    }
   ],
   "source": [
    "train_loader = DataLoader(train_set, batch_size=256, shuffle=True, drop_last=True, pin_memory=True, num_workers=4)\n",
    "val_loader = DataLoader(val_set, batch_size=256, shuffle=False, drop_last=False, num_workers=4)\n",
    "test_loader = DataLoader(test_set, batch_size=256, shuffle=False, drop_last=False, num_workers=4)\n",
    "\n",
    "def get_train_images(num):\n",
    "    return torch.stack([train_dataset[i][0] for i in range(num)], dim=0)\n",
    "\n",
    "\n",
    "trainer = pl.Trainer(default_root_dir=CHECKPOINT_PATH,\n",
    "                         accelerator=\"gpu\" if str(device).startswith(\"cuda\") else \"cpu\",\n",
    "                         devices=1,\n",
    "                         max_epochs=100,\n",
    "                         callbacks=[ModelCheckpoint(save_weights_only=True),\n",
    "                                    GenerateCallback(get_train_images(8), every_n_epochs=5),\n",
    "                                    LearningRateMonitor(\"epoch\")])\n",
    "\n",
    "trainer.logger._log_graph = True         # If True, we plot the computation graph in tensorboard\n",
    "trainer.logger._default_hp_metric = None # Optional logging argument that we don't need\n",
    "\n",
    "# Check whether pretrained model exists. If yes, load it and train\n",
    "pretrained_filename = os.path.join(CHECKPOINT_PATH, \"lightning_logs/version_1/checkpoints\", \"epoch=66-step=7035.ckpt\")\n",
    "if os.path.isfile(pretrained_filename):\n",
    "    print(\"Found pretrained model, loading...\")\n",
    "    model = Autoencoder.load_from_checkpoint(pretrained_filename)\n",
    "    trainer.fit(model, train_loader, val_loader)\n",
    "else:\n",
    "    print('none')\n",
    "    model = Autoencoder()\n",
    "    trainer.fit(model, train_loader, val_loader)\n",
    "# Test best model on validation and test set\n",
    "val_result = trainer.test(model, val_loader, verbose=False)\n",
    "test_result = trainer.test(model, test_loader, verbose=False)\n",
    "result = {\"test\": test_result, \"val\": val_result}"
   ]
  },
  {
   "cell_type": "code",
   "execution_count": 11,
   "metadata": {},
   "outputs": [
    {
     "name": "stdout",
     "output_type": "stream",
     "text": [
      "Found pretrained model, loading...\n",
      "Test Size: torch.Size([2, 210, 160])\n",
      "Encoded State: torch.Size([120])\n",
      "torch.Size([1, 2, 210, 160])\n",
      "Test Loss: 561632.6875\n"
     ]
    },
    {
     "name": "stderr",
     "output_type": "stream",
     "text": [
      "c:\\Users\\Bryan Zhao\\Documents\\GitHub\\IRL\\atari\\nn_init.py:114: UserWarning: Using a target size (torch.Size([1, 2, 210, 160])) that is different to the input size (torch.Size([2, 210, 160])). This will likely lead to incorrect results due to broadcasting. Please ensure they have the same size.\n",
      "  loss = F.mse_loss(x, x_hat, reduction=\"none\")\n"
     ]
    },
    {
     "data": {
      "text/plain": [
       "torch.Size([210, 160])"
      ]
     },
     "execution_count": 11,
     "metadata": {},
     "output_type": "execute_result"
    },
    {
     "data": {
      "image/png": "[encoded data removed]",
      "text/plain": [
       "<Figure size 640x480 with 4 Axes>"
      ]
     },
     "metadata": {},
     "output_type": "display_data"
    }
   ],
   "source": [
    "pretrained_filename = os.path.join(CHECKPOINT_PATH, \"lightning_logs/version_1/checkpoints\", \"epoch=66-step=7035.ckpt\")\n",
    "if os.path.isfile(pretrained_filename):\n",
    "    print(\"Found pretrained model, loading...\")\n",
    "    model = Autoencoder.load_from_checkpoint(pretrained_filename)\n",
    "original = test_set[300][0]\n",
    "reconstructed = model(original)\n",
    "reconstructed = reconstructed.squeeze(dim=0).detach()\n",
    "print(\"Test Size:\", test_set[1][0].size())\n",
    "\n",
    "encoded_state = model.encoder(original)\n",
    "print(\"Encoded State:\", encoded_state.squeeze().size())\n",
    "\n",
    "loss = model._get_reconstruction_loss(test_set[1])\n",
    "print(\"Test Loss:\", loss.item())\n",
    "\n",
    "f, axarr = plt.subplots(2,2)\n",
    "axarr[0,0].imshow(original[0,:,:].squeeze(dim=0))\n",
    "axarr[0,1].imshow(original[1,:,:].squeeze(dim=0))\n",
    "axarr[1,0].imshow(reconstructed[0,:,:].squeeze(dim=0))\n",
    "axarr[1,1].imshow(reconstructed[1,:,:].squeeze(dim=0))\n",
    "original[0,:,:].squeeze(dim=0).size()\n"
   ]
  },
  {
   "cell_type": "code",
   "execution_count": 5,
   "metadata": {},
   "outputs": [
    {
     "name": "stdout",
     "output_type": "stream",
     "text": [
      "The tensorboard extension is already loaded. To reload it, use:\n",
      "  %reload_ext tensorboard\n"
     ]
    },
    {
     "data": {
      "text/plain": [
       "Reusing TensorBoard on port 6006 (pid 2976), started 1 day, 13:41:51 ago. (Use '!kill 2976' to kill it.)"
      ]
     },
     "metadata": {},
     "output_type": "display_data"
    },
    {
     "data": {
      "text/html": [
       "\n",
       "      <iframe id=\"tensorboard-frame-c77cd1a27abad341\" width=\"100%\" height=\"800\" frameborder=\"0\">\n",
       "      </iframe>\n",
       "      <script>\n",
       "        (function() {\n",
       "          const frame = document.getElementById(\"tensorboard-frame-c77cd1a27abad341\");\n",
       "          const url = new URL(\"http://localhost\");\n",
       "          const port = 6006;\n",
       "          if (port) {\n",
       "            url.port = port;\n",
       "          }\n",
       "          frame.src = url;\n",
       "        })();\n",
       "      </script>\n",
       "    "
      ],
      "text/plain": [
       "<IPython.core.display.HTML object>"
      ]
     },
     "metadata": {},
     "output_type": "display_data"
    }
   ],
   "source": [
    "%load_ext tensorboard\n",
    "%tensorboard --logdir data/run_6/checkpoints/lightning_logs/"
   ]
  },
  {
   "cell_type": "code",
   "execution_count": 5,
   "metadata": {},
   "outputs": [],
   "source": [
    "data_dir = \"data/run_\"\n",
    "i = 0\n",
    "while os.path.exists(data_dir+str(i)):\n",
    "    i += 1\n",
    "run_dir = data_dir+str(i)\n",
    "os.mkdir(run_dir)\n",
    "os.mkdir(os.path.join(run_dir, 'train'))\n",
    "os.mkdir(os.path.join(run_dir, 'test'))\n",
    "os.mkdir(os.path.join(run_dir, 'checkpoints'))\n",
    "\n",
    "\n",
    "EPISODES = 20\n",
    "N = 10000\n",
    "train_episodes = int(0.8*EPISODES)\n",
    "path_train_df = pd.DataFrame(columns=['image path'])\n",
    "path_validate_df = pd.DataFrame(columns=['image path'])\n",
    "image_i = 0\n",
    "for e in range(EPISODES):\n",
    "    atari.env.reset()\n",
    "    if e >= train_episodes:\n",
    "        image_i = 0\n",
    "\n",
    "\n",
    "    for i in range(N):\n",
    "        # take a random action\n",
    "        action = atari.env.action_space.sample()\n",
    "        observation, reward, terminated, truncated, info = atari.env.step(action)\n",
    "\n",
    "        image_name = game+'_'+str(image_i)+'.png'\n",
    "\n",
    "        if e >= train_episodes:\n",
    "            image_dir = os.path.join(run_dir, 'test', image_name)\n",
    "            path_validate_df = pd.concat([path_validate_df, pd.Series({'image path': image_dir}).to_frame().T], ignore_index=True)\n",
    "        else:\n",
    "            image_dir = os.path.join(run_dir, 'train', image_name)\n",
    "            path_train_df = pd.concat([path_train_df, pd.Series({'image path': image_dir}).to_frame().T], ignore_index=True)\n",
    "        save_image(torch.Tensor(observation)/255, image_dir)\n",
    "\n",
    "        image_i += 1\n",
    "    \n",
    "        \n",
    "        # end game\n",
    "        if terminated or truncated:\n",
    "            break\n",
    "\n",
    "path_train_df_dir = os.path.join(run_dir,'train','image_path.csv')\n",
    "path_train_df.to_csv(path_train_df_dir)\n",
    "path_validate_df_dir = os.path.join(run_dir,'test','image_path.csv')\n",
    "path_validate_df.to_csv(path_validate_df_dir)"
   ]
  },
  {
   "cell_type": "code",
   "execution_count": null,
   "metadata": {},
   "outputs": [],
   "source": []
  }
 ],
 "metadata": {
  "kernelspec": {
   "display_name": "7648-project",
   "language": "python",
   "name": "python3"
  },
  "language_info": {
   "codemirror_mode": {
    "name": "ipython",
    "version": 3
   },
   "file_extension": ".py",
   "mimetype": "text/x-python",
   "name": "python",
   "nbconvert_exporter": "python",
   "pygments_lexer": "ipython3",
   "version": "3.10.8 | packaged by conda-forge | (main, Nov 24 2022, 14:07:00) [MSC v.1916 64 bit (AMD64)]"
  },
  "orig_nbformat": 4,
  "vscode": {
   "interpreter": {
    "hash": "97374d07a4b94a0801a8abfd9e7db1c0c4eab6f55c6399426d44d92f7b57712f"
   }
  }
 },
 "nbformat": 4,
 "nbformat_minor": 2
}
